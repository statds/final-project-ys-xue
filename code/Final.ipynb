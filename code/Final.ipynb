{
 "cells": [
  {
   "cell_type": "markdown",
   "metadata": {
    "slideshow": {
     "slide_type": "slide"
    }
   },
   "source": [
    "# Application of Email Spam Filtering Algorithms to SMS Data\n",
    "\n",
    "\n",
    "## Yishu Xue"
   ]
  },
  {
   "cell_type": "code",
   "execution_count": 3,
   "metadata": {
    "collapsed": false,
    "slideshow": {
     "slide_type": "skip"
    }
   },
   "outputs": [],
   "source": [
    "import pandas as pd \n",
    "import numpy as np \n",
    "import matplotlib as mpl\n",
    "import matplotlib.pyplot as plt \n",
    "import seaborn as sns\n",
    "import string\n",
    "from sklearn.feature_extraction.text import TfidfVectorizer\n",
    "from sklearn.model_selection import train_test_split\n",
    "from nltk.stem import SnowballStemmer\n",
    "from nltk.corpus import stopwords\n",
    "% matplotlib inline\n",
    "\n",
    "sms = pd.read_csv(\"../spam.csv\", encoding = 'latin-1');\n",
    "sms = sms.drop([\"Unnamed: 2\", \"Unnamed: 3\", \"Unnamed: 4\"], axis = 1)\n",
    "sms = sms.rename(columns = {\"v1\": \"Label\", \"v2\": \"Text\"})\n",
    "sms[\"Length\"] = sms[\"Text\"].apply(len)"
   ]
  },
  {
   "cell_type": "markdown",
   "metadata": {
    "slideshow": {
     "slide_type": "slide"
    }
   },
   "source": [
    "### The Data:\n",
    "\n",
    "The dataset is vailable from [Kaggle](https://www.kaggle.com/uciml/sms-spam-collection-dataset). There are 5,572 messages in total, 747 of which are spam. All messages are in English. \n",
    "\n",
    "Examples:"
   ]
  },
  {
   "cell_type": "code",
   "execution_count": 4,
   "metadata": {
    "collapsed": false,
    "slideshow": {
     "slide_type": "-"
    }
   },
   "outputs": [
    {
     "name": "stdout",
     "output_type": "stream",
     "text": [
      "  Label                                               Text  Length\n",
      "0   ham  Go until jurong point, crazy.. Available only ...     111\n",
      "1   ham                      Ok lar... Joking wif u oni...      29\n",
      "2  spam  Free entry in 2 a wkly comp to win FA Cup fina...     155\n",
      "3   ham  U dun say so early hor... U c already then say...      49\n",
      "4   ham  Nah I don't think he goes to usf, he lives aro...      61\n"
     ]
    }
   ],
   "source": [
    "print(sms[0:5])"
   ]
  },
  {
   "cell_type": "code",
   "execution_count": 5,
   "metadata": {
    "collapsed": false,
    "slideshow": {
     "slide_type": "skip"
    }
   },
   "outputs": [],
   "source": [
    "import re\n",
    "len(re.findall(r'[A-Z]', sms[\"Text\"][1]))\n",
    "def ncap(mystring):\n",
    "    return (len(re.findall(r'[A-Z]', mystring)))\n",
    "\n",
    "def nnum(mystring):\n",
    "    return (len(re.findall(r'[0-9]', mystring)))\n",
    "\n",
    "sms[\"ncap\"] = sms[\"Text\"].apply(ncap)\n",
    "sms[\"nnum\"] = sms[\"Text\"].apply(nnum)\n",
    "sms[\"pcap\"] = sms[\"ncap\"].div(sms[\"Length\"], axis = 0)\n",
    "sms[\"pnum\"] = sms[\"nnum\"].div(sms[\"Length\"], axis = 0)"
   ]
  },
  {
   "cell_type": "code",
   "execution_count": 6,
   "metadata": {
    "collapsed": false,
    "slideshow": {
     "slide_type": "slide"
    }
   },
   "outputs": [
    {
     "data": {
      "text/plain": [
       "Label\n",
       "ham     Axes(0.125,0.125;0.775x0.755)\n",
       "spam    Axes(0.125,0.125;0.775x0.755)\n",
       "Name: pcap, dtype: object"
      ]
     },
     "execution_count": 6,
     "metadata": {},
     "output_type": "execute_result"
    },
    {
     "data": {
      "image/png": "[encoded data removed]",
      "text/plain": [
       "<matplotlib.figure.Figure at 0x1172f9e48>"
      ]
     },
     "metadata": {},
     "output_type": "display_data"
    }
   ],
   "source": [
    "sms.groupby(\"Label\").pcap.plot(kind = \"hist\", alpha = 0.5, bins = 100)"
   ]
  },
  {
   "cell_type": "markdown",
   "metadata": {},
   "source": [
    "The proportion of capital letters might not be quite helpful in distinguishing ham and spam. Converting everything to lower case incurs little information loss."
   ]
  },
  {
   "cell_type": "code",
   "execution_count": 7,
   "metadata": {
    "collapsed": false,
    "slideshow": {
     "slide_type": "subslide"
    }
   },
   "outputs": [
    {
     "data": {
      "text/plain": [
       "Label\n",
       "ham     Axes(0.125,0.125;0.775x0.755)\n",
       "spam    Axes(0.125,0.125;0.775x0.755)\n",
       "Name: pnum, dtype: object"
      ]
     },
     "execution_count": 7,
     "metadata": {},
     "output_type": "execute_result"
    },
    {
     "data": {
      "image/png": "[encoded data removed]",
      "text/plain": [
       "<matplotlib.figure.Figure at 0x10f6f06d8>"
      ]
     },
     "metadata": {},
     "output_type": "display_data"
    }
   ],
   "source": [
    "sms.groupby(\"Label\").pnum.plot(kind = \"hist\", alpha = 0.5, bins = 100)"
   ]
  },
  {
   "cell_type": "markdown",
   "metadata": {},
   "source": [
    "The proportion of numbers in spam is higher than that in hams. It might be helpful!"
   ]
  },
  {
   "cell_type": "code",
   "execution_count": 8,
   "metadata": {
    "collapsed": true,
    "slideshow": {
     "slide_type": "skip"
    }
   },
   "outputs": [],
   "source": [
    "to_process = sms[\"Text\"].copy()\n",
    "to_process = to_process.str.lower()\n",
    "stop_words = set(stopwords.words(\"english\"))\n",
    "\n",
    "def clean_message(text):\n",
    "    # te\n",
    "    text = text.translate(str.maketrans(\"\", \"\", string.punctuation))\n",
    "    text = [word for word in text.split() if word not in stopwords.words(\"english\")]\n",
    "    \n",
    "    return \" \".join(text)\n",
    "\n",
    "text_cleaned = to_process.apply(clean_message)"
   ]
  },
  {
   "cell_type": "code",
   "execution_count": 9,
   "metadata": {
    "collapsed": true,
    "slideshow": {
     "slide_type": "skip"
    }
   },
   "outputs": [],
   "source": [
    "from collections import Counter\n",
    "freqSpam = Counter(\" \".join(text_cleaned[sms[\"Label\"] == \"spam\"]).split()).most_common(20)\n",
    "freqHam = Counter(\" \".join(text_cleaned[sms[\"Label\"] == \"ham\"]).split()).most_common(20)"
   ]
  },
  {
   "cell_type": "markdown",
   "metadata": {
    "slideshow": {
     "slide_type": "slide"
    }
   },
   "source": [
    "### Text cleaning:\n",
    "\n",
    "* Convert everything to lowercase. \n",
    "* Remove \"stopwords\".\n",
    "\n",
    "#### What are typical examples of stopwords?"
   ]
  },
  {
   "cell_type": "code",
   "execution_count": 10,
   "metadata": {
    "collapsed": false
   },
   "outputs": [
    {
     "name": "stdout",
     "output_type": "stream",
     "text": [
      "['i', 'me', 'my', 'myself', 'we', 'our', 'ours', 'ourselves', 'you', \"you're\", \"you've\", \"you'll\", \"you'd\", 'your', 'yours', 'yourself', 'yourselves', 'he', 'him', 'his', 'himself', 'she', \"she's\", 'her', 'hers', 'herself', 'it', \"it's\", 'its', 'itself', 'they', 'them', 'their', 'theirs', 'themselves', 'what', 'which', 'who', 'whom', 'this', 'that', \"that'll\", 'these', 'those', 'am', 'is', 'are', 'was', 'were', 'be', 'been', 'being', 'have', 'has', 'had', 'having', 'do', 'does', 'did', 'doing', 'a', 'an', 'the', 'and', 'but', 'if', 'or', 'because', 'as', 'until', 'while', 'of', 'at', 'by', 'for', 'with', 'about', 'against', 'between', 'into', 'through', 'during', 'before', 'after', 'above', 'below', 'to', 'from', 'up', 'down', 'in', 'out', 'on', 'off', 'over', 'under', 'again', 'further', 'then', 'once', 'here', 'there', 'when', 'where', 'why', 'how', 'all', 'any', 'both', 'each', 'few', 'more', 'most', 'other', 'some', 'such', 'no', 'nor', 'not', 'only', 'own', 'same', 'so', 'than', 'too', 'very', 's', 't', 'can', 'will', 'just', 'don', \"don't\", 'should', \"should've\", 'now', 'd', 'll', 'm', 'o', 're', 've', 'y', 'ain', 'aren', \"aren't\", 'couldn', \"couldn't\", 'didn', \"didn't\", 'doesn', \"doesn't\", 'hadn', \"hadn't\", 'hasn', \"hasn't\", 'haven', \"haven't\", 'isn', \"isn't\", 'ma', 'mightn', \"mightn't\", 'mustn', \"mustn't\", 'needn', \"needn't\", 'shan', \"shan't\", 'shouldn', \"shouldn't\", 'wasn', \"wasn't\", 'weren', \"weren't\", 'won', \"won't\", 'wouldn', \"wouldn't\"]\n"
     ]
    }
   ],
   "source": [
    "print(stopwords.words(\"english\"))"
   ]
  },
  {
   "cell_type": "code",
   "execution_count": 11,
   "metadata": {
    "collapsed": false,
    "slideshow": {
     "slide_type": "slide"
    }
   },
   "outputs": [
    {
     "data": {
      "image/png": "[encoded data removed]",
      "text/plain": [
       "<matplotlib.figure.Figure at 0x11759eba8>"
      ]
     },
     "metadata": {},
     "output_type": "display_data"
    }
   ],
   "source": [
    "import matplotlib.pyplot as plt\n",
    "labels, ys = zip(*freqHam)\n",
    "xs = np.arange(len(labels)) \n",
    "width = 0.5\n",
    "plt.bar(xs, ys, width, align='center')\n",
    "plt.xticks(xs, labels)\n",
    "plt.xticks(rotation=70)\n",
    "plt.title(\"Top 20 Most Frequent Words for Ham\")\n",
    "plt.ylabel(\"Frequency\")\n",
    "plt.show()"
   ]
  },
  {
   "cell_type": "code",
   "execution_count": 12,
   "metadata": {
    "collapsed": false,
    "slideshow": {
     "slide_type": "subslide"
    }
   },
   "outputs": [
    {
     "data": {
      "image/png": "[encoded data removed]",
      "text/plain": [
       "<matplotlib.figure.Figure at 0x117b09f28>"
      ]
     },
     "metadata": {},
     "output_type": "display_data"
    }
   ],
   "source": [
    "labels, ys = zip(*freqSpam)\n",
    "xs = np.arange(len(labels)) \n",
    "width = 0.5\n",
    "plt.bar(xs, ys, width, align='center')\n",
    "plt.xticks(xs, labels)\n",
    "plt.xticks(rotation=70)\n",
    "plt.title(\"Top 20 Most Frequent Words for Spam\")\n",
    "plt.ylabel(\"Frequency\")\n",
    "plt.show()"
   ]
  },
  {
   "cell_type": "markdown",
   "metadata": {
    "slideshow": {
     "slide_type": "slide"
    }
   },
   "source": [
    "### Convert text information to sparse matrices: different methods\n",
    "\n",
    "#### `CountVectorizer`\n",
    "\n",
    "`CountVectorizer` implements both tokenization and occurence counting in a single class. \n",
    "\n",
    "* Tokenization: a way to split **text** into tokens. These tokens could be paragraphs, sentences, or individual words. \n",
    "\n",
    "* Occurence counting: count the occurences of tokens in each document.\n",
    "\n",
    "An example:"
   ]
  },
  {
   "cell_type": "code",
   "execution_count": 13,
   "metadata": {
    "collapsed": false,
    "slideshow": {
     "slide_type": "subslide"
    }
   },
   "outputs": [
    {
     "data": {
      "text/plain": [
       "array([[0, 0, 1, 1, 0, 0, 1, 1, 0, 1],\n",
       "       [0, 0, 0, 1, 0, 2, 1, 1, 0, 1],\n",
       "       [1, 0, 0, 0, 1, 0, 0, 1, 1, 0],\n",
       "       [0, 1, 1, 1, 0, 0, 0, 1, 0, 1]], dtype=int64)"
      ]
     },
     "execution_count": 13,
     "metadata": {},
     "output_type": "execute_result"
    }
   ],
   "source": [
    "from sklearn.feature_extraction.text import CountVectorizer\n",
    "vectorizer = CountVectorizer()\n",
    "exampleCorpus = [\n",
    "    'This is the first sentence.',\n",
    "    'This is the second second sentence',\n",
    "    'And the third one',\n",
    "    'Is this the first document?'\n",
    "]\n",
    "\n",
    "X = vectorizer.fit_transform(exampleCorpus)\n",
    "X.toarray()"
   ]
  },
  {
   "cell_type": "markdown",
   "metadata": {},
   "source": [
    "A corpus of documents can thus be represented by a matrix with one row per document and one column per token (e.g. word) occuring in the corpus."
   ]
  },
  {
   "cell_type": "markdown",
   "metadata": {
    "slideshow": {
     "slide_type": "slide"
    }
   },
   "source": [
    "#### `TfidfVectorizer`\n",
    "\n",
    "*Intuition: re-weight the count features, so that highly frequent words do not sharow the frequencies of rarer yet more interesting terms.*\n",
    "\n",
    "* Tf: term-frequency\n",
    "* tf-idf: term-frequency times *inverse document-frequency*, i.e. $\\text{tf-idf}(t,d) = \\text{tf}(t,d) \\times \\text{idf}(t)$, where $\\text{tf}(t,d)$ is the occurence of term $t$ in the documents, and \n",
    "\n",
    "$$\\text{idf}(t) = \\log \\frac{1 + n_d}{1 + \\text{df}(d,t)} + 1,$$\n",
    "\n",
    "where $n_d$ is the total number of documents, and $\\text{df}(d,t)$ is the number of documents that contain term $t$. \n",
    "\n",
    "The resulting tf-idf vectors could either be directly fed to classifiers, or normalized using $\\ell_1$ or $\\ell_2$ norm."
   ]
  },
  {
   "cell_type": "code",
   "execution_count": 27,
   "metadata": {
    "collapsed": false,
    "slideshow": {
     "slide_type": "subslide"
    }
   },
   "outputs": [
    {
     "data": {
      "text/plain": [
       "array([[ 0.        ,  0.        ,  0.23358689,  0.18910872,  0.        ,\n",
       "         0.        ,  0.23358689,  0.15460877,  0.        ,  0.18910872],\n",
       "       [ 0.        ,  0.        ,  0.        ,  0.13915655,  0.        ,\n",
       "         0.43603126,  0.17188603,  0.1137696 ,  0.        ,  0.13915655],\n",
       "       [ 0.28394236,  0.        ,  0.        ,  0.        ,  0.28394236,\n",
       "         0.        ,  0.        ,  0.14817291,  0.28394236,  0.        ],\n",
       "       [ 0.        ,  0.27879794,  0.2198075 ,  0.17795311,  0.        ,\n",
       "         0.        ,  0.        ,  0.14548833,  0.        ,  0.17795311]])"
      ]
     },
     "execution_count": 27,
     "metadata": {},
     "output_type": "execute_result"
    }
   ],
   "source": [
    "## tfidvectorizer using $\\ell_1$ normalizaiton\n",
    "vectorizer2 = TfidfVectorizer(norm = \"l1\")\n",
    "X2 = vectorizer2.fit_transform(exampleCorpus)\n",
    "X2.toarray()"
   ]
  },
  {
   "cell_type": "code",
   "execution_count": 28,
   "metadata": {
    "collapsed": false,
    "slideshow": {
     "slide_type": "subslide"
    }
   },
   "outputs": [
    {
     "data": {
      "text/plain": [
       "array([[ 0.        ,  0.        ,  0.51646957,  0.41812662,  0.        ,\n",
       "         0.        ,  0.51646957,  0.34184591,  0.        ,  0.41812662],\n",
       "       [ 0.        ,  0.        ,  0.        ,  0.26714448,  0.        ,\n",
       "         0.8370669 ,  0.32997658,  0.21840812,  0.        ,  0.26714448],\n",
       "       [ 0.55280532,  0.        ,  0.        ,  0.        ,  0.55280532,\n",
       "         0.        ,  0.        ,  0.28847675,  0.55280532,  0.        ],\n",
       "       [ 0.        ,  0.60759891,  0.47903796,  0.38782252,  0.        ,\n",
       "         0.        ,  0.        ,  0.31707032,  0.        ,  0.38782252]])"
      ]
     },
     "execution_count": 28,
     "metadata": {},
     "output_type": "execute_result"
    }
   ],
   "source": [
    "## tfidvectorizer using $\\ell_2$ normalizaiton\n",
    "vectorizer3 = TfidfVectorizer(norm = \"l2\")\n",
    "X3 = vectorizer3.fit_transform(exampleCorpus)\n",
    "X3.toarray()"
   ]
  },
  {
   "cell_type": "code",
   "execution_count": 21,
   "metadata": {
    "collapsed": false,
    "slideshow": {
     "slide_type": "skip"
    }
   },
   "outputs": [],
   "source": [
    "import matplotlib.pyplot as plt\n",
    "from scipy.sparse import coo_matrix\n",
    "import matplotlib\n",
    "\n",
    "def plot_coo_matrix(m):\n",
    "    if not isinstance(m, coo_matrix):\n",
    "        m = coo_matrix(m)\n",
    "    fig = plt.figure()\n",
    "    ax = fig.add_subplot(111, axisbg='black')\n",
    "    ax.plot(m.col, m.row, 's', color='white', ms=1)\n",
    "    ax.set_xlim(0, m.shape[1])\n",
    "    ax.set_ylim(0, m.shape[0])\n",
    "    ax.set_aspect('equal')\n",
    "    for spine in ax.spines.values():\n",
    "        spine.set_visible(False)\n",
    "    ax.invert_yaxis()\n",
    "    ax.set_aspect('equal')\n",
    "    ax.set_xticks([])\n",
    "    ax.set_yticks([])\n",
    "    return ax"
   ]
  },
  {
   "cell_type": "code",
   "execution_count": 22,
   "metadata": {
    "collapsed": false,
    "slideshow": {
     "slide_type": "skip"
    }
   },
   "outputs": [
    {
     "name": "stderr",
     "output_type": "stream",
     "text": [
      "/usr/local/lib/python3.6/site-packages/matplotlib/cbook.py:136: MatplotlibDeprecationWarning: The axisbg attribute was deprecated in version 2.0. Use facecolor instead.\n",
      "  warnings.warn(message, mplDeprecation, stacklevel=1)\n"
     ]
    },
    {
     "data": {
      "image/png": "[encoded data removed]",
      "text/plain": [
       "<matplotlib.figure.Figure at 0x118a00400>"
      ]
     },
     "metadata": {},
     "output_type": "display_data"
    }
   ],
   "source": [
    "ax = plot_coo_matrix(features)"
   ]
  },
  {
   "cell_type": "markdown",
   "metadata": {
    "slideshow": {
     "slide_type": "slide"
    }
   },
   "source": [
    "### Start with `CountVectorizer`\n",
    "\n",
    "Split the matrix `features` into training (80%) and testing (20%) sets."
   ]
  },
  {
   "cell_type": "code",
   "execution_count": 39,
   "metadata": {
    "collapsed": true,
    "slideshow": {
     "slide_type": "skip"
    }
   },
   "outputs": [],
   "source": [
    "from sklearn.linear_model import LogisticRegression\n",
    "from sklearn.linear_model import SGDClassifier\n",
    "from sklearn.svm import SVC\n",
    "from sklearn.svm import LinearSVC\n",
    "from sklearn.naive_bayes import MultinomialNB\n",
    "from sklearn.tree import DecisionTreeClassifier\n",
    "from sklearn.neighbors import KNeighborsClassifier\n",
    "from sklearn.ensemble import RandomForestClassifier\n",
    "from sklearn.ensemble import AdaBoostClassifier\n",
    "from sklearn.ensemble import BaggingClassifier\n",
    "from sklearn.ensemble import ExtraTreesClassifier\n",
    "from sklearn.metrics import accuracy_score"
   ]
  },
  {
   "cell_type": "code",
   "execution_count": 90,
   "metadata": {
    "collapsed": true,
    "slideshow": {
     "slide_type": "-"
    }
   },
   "outputs": [],
   "source": [
    "vectorizer = CountVectorizer(\"english\")\n",
    "features = vectorizer.fit_transform(text_cleaned)\n",
    "featureTrain, featureTest, labelTrain, labelTest = train_test_split(features, sms[\"Label\"],\n",
    "                                                      test_size = 0.2, random_state = 1234)"
   ]
  },
  {
   "cell_type": "code",
   "execution_count": 72,
   "metadata": {
    "collapsed": true,
    "slideshow": {
     "slide_type": "subslide"
    }
   },
   "outputs": [],
   "source": [
    "svc = SVC(kernel = \"sigmoid\", gamma = 0.15)\n",
    "eln = SGDClassifier(loss = \"log\", penalty = \"elasticnet\", l1_ratio = 0.45, alpha = 0.0001,\n",
    "                   tol= None, max_iter = 100)\n",
    "dtc = DecisionTreeClassifier(min_samples_split = 9, random_state = 2345)\n",
    "mnb = MultinomialNB(alpha = 0.6)\n",
    "knc = KNeighborsClassifier(n_neighbors = 20)\n",
    "rfc = RandomForestClassifier(n_estimators = 53, random_state = 2345)\n",
    "abc = AdaBoostClassifier(n_estimators = 37, random_state = 2345)\n",
    "bgc = BaggingClassifier(n_estimators = 43, random_state = 2345)\n",
    "etc = ExtraTreesClassifier(n_estimators = 23, random_state = 2345)"
   ]
  },
  {
   "cell_type": "code",
   "execution_count": 73,
   "metadata": {
    "collapsed": true,
    "slideshow": {
     "slide_type": "skip"
    }
   },
   "outputs": [],
   "source": [
    "classifier = {\"Support Vector Machine\": svc, \"Logistic Regression\": eln, \n",
    "             \"Decision Tree\": dtc, \"Multinomial Naive Bayes\": mnb, \n",
    "             \"K-Nearest Neighbor\": knc, \"Random Forest\": rfc, \n",
    "             \"Adaboost\": abc, \"Bagging\": bgc, \"ExtraTrees\": etc}"
   ]
  },
  {
   "cell_type": "code",
   "execution_count": 74,
   "metadata": {
    "collapsed": true,
    "slideshow": {
     "slide_type": "skip"
    }
   },
   "outputs": [],
   "source": [
    "def train_classifier(cl, feature_train, labels_train):\n",
    "    cl.fit(feature_train, labels_train)\n",
    "    \n",
    "def test_classifier(cl, feature_test):\n",
    "    return(cl.predict(feature_test))"
   ]
  },
  {
   "cell_type": "code",
   "execution_count": 88,
   "metadata": {
    "collapsed": false,
    "slideshow": {
     "slide_type": "skip"
    }
   },
   "outputs": [],
   "source": [
    "predScore = []\n",
    "for k,v in classifier.items():\n",
    "    train_classifier(v, featureTrain, labelTrain)\n",
    "    pred = test_classifier(v, featureTest)\n",
    "    predScore.append((k, [accuracy_score(labelTest, pred)]))"
   ]
  },
  {
   "cell_type": "markdown",
   "metadata": {
    "slideshow": {
     "slide_type": "subslide"
    }
   },
   "source": [
    "The performance of different classifiers on the testing dataset, using features created by `CountVectorizer`:"
   ]
  },
  {
   "cell_type": "code",
   "execution_count": 76,
   "metadata": {
    "collapsed": false,
    "slideshow": {
     "slide_type": "-"
    }
   },
   "outputs": [
    {
     "data": {
      "text/plain": [
       "[('Support Vector Machine', [0.97488789237668161]),\n",
       " ('Logistic Regression', [0.98385650224215249]),\n",
       " ('Decision Tree', [0.9695067264573991]),\n",
       " ('Multinomial Naive Bayes', [0.97668161434977574]),\n",
       " ('K-Nearest Neighbor', [0.85112107623318389]),\n",
       " ('Random Forest', [0.97399103139013454]),\n",
       " ('Adaboost', [0.96143497757847529]),\n",
       " ('Bagging', [0.97130044843049324]),\n",
       " ('ExtraTrees', [0.98026905829596411])]"
      ]
     },
     "execution_count": 76,
     "metadata": {},
     "output_type": "execute_result"
    }
   ],
   "source": [
    "predScore"
   ]
  },
  {
   "cell_type": "code",
   "execution_count": 56,
   "metadata": {
    "collapsed": false,
    "scrolled": false,
    "slideshow": {
     "slide_type": "slide"
    }
   },
   "outputs": [
    {
     "data": {
      "text/plain": [
       "([<matplotlib.axis.XTick at 0x11898cc50>,\n",
       "  <matplotlib.axis.XTick at 0x117cdc908>,\n",
       "  <matplotlib.axis.XTick at 0x1181024e0>,\n",
       "  <matplotlib.axis.XTick at 0x11992c7f0>,\n",
       "  <matplotlib.axis.XTick at 0x119937208>,\n",
       "  <matplotlib.axis.XTick at 0x119937be0>,\n",
       "  <matplotlib.axis.XTick at 0x1199415f8>,\n",
       "  <matplotlib.axis.XTick at 0x119941fd0>,\n",
       "  <matplotlib.axis.XTick at 0x11994c9e8>],\n",
       " <a list of 9 Text xticklabel objects>)"
      ]
     },
     "execution_count": 56,
     "metadata": {},
     "output_type": "execute_result"
    },
    {
     "data": {
      "image/png": "[encoded data removed]",
      "text/plain": [
       "<matplotlib.figure.Figure at 0x119c6aef0>"
      ]
     },
     "metadata": {},
     "output_type": "display_data"
    }
   ],
   "source": [
    "import matplotlib.pyplot as plt\n",
    "labels, ys = zip(*predScore)\n",
    "yss = []\n",
    "for item in ys:\n",
    "    yss.extend(item)\n",
    "xs = np.arange(len(labels))\n",
    "width = 0.5\n",
    "plt.bar(xs, yss, width, align = \"center\")\n",
    "plt.xticks(xs, labels, rotation = \"vertical\")"
   ]
  },
  {
   "cell_type": "markdown",
   "metadata": {
    "slideshow": {
     "slide_type": "slide"
    }
   },
   "source": [
    "What about `TfidfVectorizer`? "
   ]
  },
  {
   "cell_type": "code",
   "execution_count": 80,
   "metadata": {
    "collapsed": true
   },
   "outputs": [],
   "source": [
    "vectorizer2 = TfidfVectorizer(\"english\", norm = \"l2\")\n",
    "features_tf = vectorizer2.fit_transform(text_cleaned)\n",
    "featureTrain_tf, featureTest_tf, labelTrain_tf, labelTest_tf = train_test_split(features_tf, sms[\"Label\"],\n",
    "                                                      test_size = 0.2, random_state = 1234)"
   ]
  },
  {
   "cell_type": "code",
   "execution_count": 84,
   "metadata": {
    "collapsed": true,
    "slideshow": {
     "slide_type": "skip"
    }
   },
   "outputs": [],
   "source": [
    "svc = SVC(kernel = \"sigmoid\", gamma = 1)\n",
    "eln = SGDClassifier(loss = \"log\", penalty = \"elasticnet\", l1_ratio = 0, alpha = 0.0001,\n",
    "                   tol= None, max_iter = 100)\n",
    "dtc = DecisionTreeClassifier(min_samples_split = 7, random_state = 2345)\n",
    "mnb = MultinomialNB(alpha = 0.05)\n",
    "knc = KNeighborsClassifier(n_neighbors = 41)\n",
    "rfc = RandomForestClassifier(n_estimators = 31, random_state = 2345)\n",
    "abc = AdaBoostClassifier(n_estimators = 37, random_state = 2345)\n",
    "bgc = BaggingClassifier(n_estimators = 33, random_state = 2345)\n",
    "etc = ExtraTreesClassifier(n_estimators = 33, random_state = 2345)\n",
    "\n",
    "predScore_tf = []\n",
    "for k,v in classifier.items():\n",
    "    train_classifier(v, featureTrain_tf, labelTrain_tf)\n",
    "    pred = test_classifier(v, featureTest_tf)\n",
    "    predScore_tf.append((k, [accuracy_score(labelTest_tf, pred)]))"
   ]
  },
  {
   "cell_type": "code",
   "execution_count": 85,
   "metadata": {
    "collapsed": false,
    "slideshow": {
     "slide_type": "subslide"
    }
   },
   "outputs": [
    {
     "data": {
      "text/plain": [
       "[('Support Vector Machine', [0.93004484304932733]),\n",
       " ('Logistic Regression', [0.96322869955156953]),\n",
       " ('Decision Tree', [0.96591928251121073]),\n",
       " ('Multinomial Naive Bayes', [0.97219730941704041]),\n",
       " ('K-Nearest Neighbor', [0.8923766816143498]),\n",
       " ('Random Forest', [0.97668161434977574]),\n",
       " ('Adaboost', [0.96591928251121073]),\n",
       " ('Bagging', [0.97757847533632292]),\n",
       " ('ExtraTrees', [0.97399103139013454])]"
      ]
     },
     "execution_count": 85,
     "metadata": {},
     "output_type": "execute_result"
    }
   ],
   "source": [
    "predScore_tf"
   ]
  },
  {
   "cell_type": "code",
   "execution_count": 89,
   "metadata": {
    "collapsed": false
   },
   "outputs": [
    {
     "data": {
      "text/plain": [
       "[('Support Vector Machine', [0.97488789237668161]),\n",
       " ('Logistic Regression', [0.98385650224215249]),\n",
       " ('Decision Tree', [0.9695067264573991]),\n",
       " ('Multinomial Naive Bayes', [0.97668161434977574]),\n",
       " ('K-Nearest Neighbor', [0.85112107623318389]),\n",
       " ('Random Forest', [0.97399103139013454]),\n",
       " ('Adaboost', [0.96143497757847529]),\n",
       " ('Bagging', [0.97130044843049324]),\n",
       " ('ExtraTrees', [0.98026905829596411])]"
      ]
     },
     "execution_count": 89,
     "metadata": {},
     "output_type": "execute_result"
    }
   ],
   "source": [
    "predScore"
   ]
  },
  {
   "cell_type": "markdown",
   "metadata": {},
   "source": [
    "Simpler, easier-to-interprete algorithms tend to have better performance with the count feature matrix, while ensemble methods perform better on the tf-idf transformed feature matrix. The performance of `KNN` is much worse than others using both matrices.\n",
    "\n",
    "**Choice**: use count feature matrix with `Support Vector Machine`, `Logistic Regression`, `Decision Tree` and `Multinomial Naive Bayes` for further study."
   ]
  },
  {
   "cell_type": "markdown",
   "metadata": {
    "collapsed": true,
    "slideshow": {
     "slide_type": "slide"
    }
   },
   "source": [
    "### What about adding the proportion of numbers? "
   ]
  },
  {
   "cell_type": "code",
   "execution_count": 135,
   "metadata": {
    "collapsed": true,
    "slideshow": {
     "slide_type": "skip"
    }
   },
   "outputs": [],
   "source": [
    "svc = SVC(kernel = \"rbf\", gamma = 0.05)\n",
    "eln = SGDClassifier(loss = \"log\", penalty = \"elasticnet\", l1_ratio = 0.52, alpha = 0.0001)\n",
    "dtc = DecisionTreeClassifier(min_samples_split = 7, random_state = 2345)\n",
    "mnb = MultinomialNB(alpha = 0.05)\n",
    "\n",
    "classifier = {\"Support Vector Machine\": svc, \"Logistic Regression\": eln, \n",
    "             \"Decision Tree\": dtc, \"Multinomial Naive Bayes\": mnb}"
   ]
  },
  {
   "cell_type": "code",
   "execution_count": 136,
   "metadata": {
    "collapsed": false,
    "slideshow": {
     "slide_type": "skip"
    }
   },
   "outputs": [
    {
     "name": "stderr",
     "output_type": "stream",
     "text": [
      "/usr/local/lib/python3.6/site-packages/sklearn/linear_model/stochastic_gradient.py:128: FutureWarning: max_iter and tol parameters have been added in <class 'sklearn.linear_model.stochastic_gradient.SGDClassifier'> in 0.19. If both are left unset, they default to max_iter=5 and tol=None. If tol is not None, max_iter defaults to max_iter=1000. From 0.21, default max_iter will be 1000, and default tol will be 1e-3.\n",
      "  \"and default tol will be 1e-3.\" % type(self), FutureWarning)\n"
     ]
    }
   ],
   "source": [
    "from scipy.sparse import hstack\n",
    "features_ext = hstack([features, sms[\"pnum\"][:,None]])\n",
    "featureTrain_ext, featureTest_ext, labelTrain, labelTest = train_test_split(features_ext,\n",
    "                                        sms[\"Label\"],test_size = 0.2, random_state = 1234)\n",
    "predScore_ext = []\n",
    "for k,v in classifier.items():\n",
    "    train_classifier(v, featureTrain_ext, labelTrain_ext)\n",
    "    pred = test_classifier(v, featureTest_ext)\n",
    "    predScore_ext.append((k, [accuracy_score(labelTest_ext, pred)]))"
   ]
  },
  {
   "cell_type": "code",
   "execution_count": 137,
   "metadata": {
    "collapsed": false
   },
   "outputs": [
    {
     "data": {
      "text/plain": [
       "[('Support Vector Machine', [0.98116591928251118]),\n",
       " ('Logistic Regression', [0.98475336322869955]),\n",
       " ('Decision Tree', [0.98116591928251118]),\n",
       " ('Multinomial Naive Bayes', [0.97757847533632292])]"
      ]
     },
     "execution_count": 137,
     "metadata": {},
     "output_type": "execute_result"
    }
   ],
   "source": [
    "predScore_ext"
   ]
  },
  {
   "cell_type": "markdown",
   "metadata": {},
   "source": [
    "The addition of `pnum` increases the prediction accuracy for all four classifiers!"
   ]
  },
  {
   "cell_type": "markdown",
   "metadata": {
    "slideshow": {
     "slide_type": "slide"
    }
   },
   "source": [
    "### Imbalanced Data\n",
    "\n",
    "In this case, it would be more reasonable to downsample the `ham` class. "
   ]
  },
  {
   "cell_type": "code",
   "execution_count": 169,
   "metadata": {
    "collapsed": false
   },
   "outputs": [],
   "source": [
    "hamInd = np.asarray(sms.index[sms[\"Label\"] == \"ham\"].tolist())\n",
    "spamInd = np.asarray(sms.index[sms[\"Label\"] == \"spam\"].tolist())"
   ]
  },
  {
   "cell_type": "code",
   "execution_count": 170,
   "metadata": {
    "collapsed": false
   },
   "outputs": [],
   "source": [
    "np.random.seed(1812)\n",
    "trainHam = np.random.choice(hamInd, 965, replace = False)\n",
    "np.random.seed(7370)\n",
    "trainSpam = np.random.choice(spamInd, 597, replace = False)"
   ]
  },
  {
   "cell_type": "code",
   "execution_count": 184,
   "metadata": {
    "collapsed": false
   },
   "outputs": [],
   "source": [
    "trainInd = np.append(trainHam, trainSpam)\n",
    "testInd = np.setdiff1d(np.arange(5572), trainInd)"
   ]
  },
  {
   "cell_type": "code",
   "execution_count": 185,
   "metadata": {
    "collapsed": false
   },
   "outputs": [],
   "source": [
    "text_cleaned = to_process.apply(clean_message)\n",
    "features = vectorizer.fit_transform(text_cleaned)\n",
    "# featureTrain, featureTest, labelTrain, labelTest = train_test_split(features, rsms[\"Label\"],\n",
    "#                                                     test_size = 0.2, random_state = 1234)"
   ]
  },
  {
   "cell_type": "code",
   "execution_count": 188,
   "metadata": {
    "collapsed": false
   },
   "outputs": [],
   "source": [
    "featureTrain = features.tocsr()[trainInd,:]\n",
    "featureTest = features.tocsr()[testInd,:]\n",
    "labelTrain = sms[\"Label\"][trainInd]\n",
    "labelTest = sms[\"Label\"][testInd]"
   ]
  },
  {
   "cell_type": "code",
   "execution_count": 193,
   "metadata": {
    "collapsed": false
   },
   "outputs": [
    {
     "name": "stderr",
     "output_type": "stream",
     "text": [
      "/usr/local/lib/python3.6/site-packages/sklearn/linear_model/stochastic_gradient.py:128: FutureWarning: max_iter and tol parameters have been added in <class 'sklearn.linear_model.stochastic_gradient.SGDClassifier'> in 0.19. If both are left unset, they default to max_iter=5 and tol=None. If tol is not None, max_iter defaults to max_iter=1000. From 0.21, default max_iter will be 1000, and default tol will be 1e-3.\n",
      "  \"and default tol will be 1e-3.\" % type(self), FutureWarning)\n"
     ]
    }
   ],
   "source": [
    "svc = SVC(kernel = \"rbf\", gamma = 0.05)\n",
    "eln = SGDClassifier(loss = \"log\", penalty = \"elasticnet\", l1_ratio = 0.52, alpha = 0.0001)\n",
    "dtc = DecisionTreeClassifier(min_samples_split = 7, random_state = 2345)\n",
    "mnb = MultinomialNB(alpha = 0.05)\n",
    "\n",
    "predScore = []\n",
    "for k,v in classifier.items():\n",
    "    train_classifier(v, featureTrain, labelTrain)\n",
    "    pred = test_classifier(v, featureTest)\n",
    "    predScore.append((k, [accuracy_score(labelTest, pred)]))"
   ]
  },
  {
   "cell_type": "code",
   "execution_count": 194,
   "metadata": {
    "collapsed": false
   },
   "outputs": [
    {
     "data": {
      "text/plain": [
       "[('Support Vector Machine', [0.97431421446384037]),\n",
       " ('Logistic Regression', [0.97780548628428932]),\n",
       " ('Decision Tree', [0.90947630922693268]),\n",
       " ('Multinomial Naive Bayes', [0.96857855361596013])]"
      ]
     },
     "execution_count": 194,
     "metadata": {},
     "output_type": "execute_result"
    }
   ],
   "source": [
    "predScore"
   ]
  },
  {
   "cell_type": "markdown",
   "metadata": {},
   "source": [
    "Logistic regression with elasticnet penalty provides best performance."
   ]
  },
  {
   "cell_type": "code",
   "execution_count": 198,
   "metadata": {
    "collapsed": false
   },
   "outputs": [
    {
     "name": "stderr",
     "output_type": "stream",
     "text": [
      "/usr/local/lib/python3.6/site-packages/sklearn/linear_model/stochastic_gradient.py:128: FutureWarning: max_iter and tol parameters have been added in <class 'sklearn.linear_model.stochastic_gradient.SGDClassifier'> in 0.19. If both are left unset, they default to max_iter=5 and tol=None. If tol is not None, max_iter defaults to max_iter=1000. From 0.21, default max_iter will be 1000, and default tol will be 1e-3.\n",
      "  \"and default tol will be 1e-3.\" % type(self), FutureWarning)\n"
     ]
    }
   ],
   "source": [
    "eln.fit(featureTrain, labelTrain)\n",
    "pred = eln.predict(featureTest)"
   ]
  },
  {
   "cell_type": "code",
   "execution_count": 202,
   "metadata": {
    "collapsed": false
   },
   "outputs": [
    {
     "data": {
      "text/plain": [
       "7       As per your request 'Melle Melle (Oru Minnamin...\n",
       "75            I am waiting machan. Call me once you free.\n",
       "84                                         Yup next stop.\n",
       "87      Yes I started to send requests to make it but ...\n",
       "102     As per your request 'Melle Melle (Oru Minnamin...\n",
       "153     As per your request 'Melle Melle (Oru Minnamin...\n",
       "161     New car and house for my parents.:)i have only...\n",
       "180     You lifted my hopes with the offer of money. I...\n",
       "193     It will stop on itself. I however suggest she ...\n",
       "225     Would really appreciate if you call me. Just n...\n",
       "227                        Hey company elama po mudyadhu.\n",
       "386                       Customer place i will call you.\n",
       "420      Yes:)from last week itself i'm taking live call.\n",
       "494                      Are you free now?can i call now?\n",
       "525     Hi i won't b ard 4 christmas. But do enjoy n m...\n",
       "544     This girl does not stay in bed. This girl does...\n",
       "602                Speaking of does he have any cash yet?\n",
       "606     XCLUSIVE@CLUBSAISAI 2MOROW 28/5 SOIREE SPECIAL...\n",
       "611     Its a valentine game. . . Send dis msg to all ...\n",
       "699              K..u also dont msg or reply to his msg..\n",
       "730     Email AlertFrom: Jeri StewartSize: 2KBSubject:...\n",
       "750     Do you realize that in about 40 years, we'll h...\n",
       "811     So there's a ring that comes with the guys cos...\n",
       "821                               On the road so cant txt\n",
       "840     I luv u soo much u donåÕt understand how speci...\n",
       "941     Theyre doing it to lots of places. Only hospit...\n",
       "954             Filthy stories and GIRLS waiting for your\n",
       "993     The Xmas story is peace.. The Xmas msg is love...\n",
       "1044    We know someone who you know that fancies you....\n",
       "1082                             Send to someone else :-)\n",
       "                              ...                        \n",
       "4287    Hey mr whats the name of that bill brison book...\n",
       "4342    Its a valentine game. . . send dis msg to all ...\n",
       "4417                           When you get free, call me\n",
       "4488             The new deus ex game comin early next yr\n",
       "4539    Urgh, coach hot, smells of chip fat! Thanks ag...\n",
       "4598              Have you laid your airtel line to rest?\n",
       "4629            Everybody had fun this evening. Miss you.\n",
       "4646    God created gap btwn ur fingers so dat sum1 vr...\n",
       "4700                               I liked the new mobile\n",
       "4763    Hi.:)technical support.providing assistance to...\n",
       "4764    if you text on your way to cup stop that shoul...\n",
       "4771    Hi, Mobile no.  &lt;#&gt;  has added you in th...\n",
       "4774    So many people seems to be special at first si...\n",
       "4828    How long before you get reply, just defer admi...\n",
       "4830               Po de :-):):-):-):-). No need job aha.\n",
       "4837    All boys made fun of me today. Ok i have no pr...\n",
       "4872                          Lol! Oops sorry! Have fun. \n",
       "4881                  As usual u can call me ard 10 smth.\n",
       "4912    Goal! Arsenal 4 (Henry, 7 v Liverpool 2 Henry ...\n",
       "4949    Hi its me you are probably having too much fun...\n",
       "4977    JADE ITS PAUL. Y DIDNåÕT U TXT ME? DO U REMEMB...\n",
       "5085    Sorry i missed your call. Can you please call ...\n",
       "5094    Hi Shanil,Rakhesh here.thanks,i have exchanged...\n",
       "5305    \\Hi missed your Call and my mumHas beendroppin...\n",
       "5331    X course it 2yrs. Just so her messages on mess...\n",
       "5447                So that takes away some money worries\n",
       "5466    http//tms. widelive.com/index. wml?id=820554ad...\n",
       "5475    Dhoni have luck to win some big title.so we wi...\n",
       "5523                              Going to join tomorrow.\n",
       "5540    ASKED 3MOBILE IF 0870 CHATLINES INCLU IN FREE ...\n",
       "Name: Text, Length: 110, dtype: object"
      ]
     },
     "execution_count": 202,
     "metadata": {},
     "output_type": "execute_result"
    }
   ],
   "source": [
    "cheater = np.where(pred != np.asarray(labelTest))\n",
    "cheaterInd = labelTest.index[cheater]\n",
    "sms.loc[cheaterInd,\"Text\"]"
   ]
  },
  {
   "cell_type": "code",
   "execution_count": 203,
   "metadata": {
    "collapsed": false
   },
   "outputs": [
    {
     "data": {
      "text/plain": [
       "count     110\n",
       "unique      2\n",
       "top       ham\n",
       "freq       97\n",
       "Name: Label, dtype: object"
      ]
     },
     "execution_count": 203,
     "metadata": {},
     "output_type": "execute_result"
    }
   ],
   "source": [
    "sms.loc[cheaterInd, \"Label\"].describe()"
   ]
  },
  {
   "cell_type": "markdown",
   "metadata": {},
   "source": []
  }
 ],
 "metadata": {
  "celltoolbar": "Slideshow",
  "kernelspec": {
   "display_name": "Python 3",
   "language": "python",
   "name": "python3"
  },
  "language_info": {
   "codemirror_mode": {
    "name": "ipython",
    "version": 3
   },
   "file_extension": ".py",
   "mimetype": "text/x-python",
   "name": "python",
   "nbconvert_exporter": "python",
   "pygments_lexer": "ipython3",
   "version": "3.6.5"
  }
 },
 "nbformat": 4,
 "nbformat_minor": 2
}
