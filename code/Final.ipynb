{
 "cells": [
  {
   "cell_type": "markdown",
   "metadata": {
    "slideshow": {
     "slide_type": "slide"
    }
   },
   "source": [
    "# Application of Email Spam Filtering Algorithms to SMS Data\n",
    "\n",
    "\n",
    "## Yishu Xue"
   ]
  },
  {
   "cell_type": "code",
   "execution_count": 1,
   "metadata": {
    "collapsed": false,
    "slideshow": {
     "slide_type": "skip"
    }
   },
   "outputs": [],
   "source": [
    "import pandas as pd \n",
    "import numpy as np \n",
    "import matplotlib as mpl\n",
    "import matplotlib.pyplot as plt \n",
    "import seaborn as sns\n",
    "import string\n",
    "from sklearn.feature_extraction.text import TfidfVectorizer\n",
    "from sklearn.model_selection import train_test_split\n",
    "from nltk.stem import SnowballStemmer\n",
    "from nltk.corpus import stopwords\n",
    "% matplotlib inline\n",
    "\n",
    "sms = pd.read_csv(\"../spam.csv\", encoding = 'latin-1');\n",
    "sms = sms.drop([\"Unnamed: 2\", \"Unnamed: 3\", \"Unnamed: 4\"], axis = 1)\n",
    "sms = sms.rename(columns = {\"v1\": \"Label\", \"v2\": \"Text\"})\n",
    "sms[\"Length\"] = sms[\"Text\"].apply(len)"
   ]
  },
  {
   "cell_type": "markdown",
   "metadata": {
    "slideshow": {
     "slide_type": "slide"
    }
   },
   "source": [
    "### The Data:\n",
    "\n",
    "The dataset is vailable from [Kaggle](https://www.kaggle.com/uciml/sms-spam-collection-dataset). There are 5,572 messages in total, 747 of which are spam. All messages are in English. \n",
    "\n",
    "Examples:"
   ]
  },
  {
   "cell_type": "code",
   "execution_count": 2,
   "metadata": {
    "collapsed": false,
    "slideshow": {
     "slide_type": "-"
    }
   },
   "outputs": [
    {
     "name": "stdout",
     "output_type": "stream",
     "text": [
      "  Label                                               Text  Length\n",
      "0   ham  Go until jurong point, crazy.. Available only ...     111\n",
      "1   ham                      Ok lar... Joking wif u oni...      29\n",
      "2  spam  Free entry in 2 a wkly comp to win FA Cup fina...     155\n",
      "3   ham  U dun say so early hor... U c already then say...      49\n",
      "4   ham  Nah I don't think he goes to usf, he lives aro...      61\n"
     ]
    }
   ],
   "source": [
    "print(sms[0:5])"
   ]
  },
  {
   "cell_type": "code",
   "execution_count": 3,
   "metadata": {
    "collapsed": false,
    "slideshow": {
     "slide_type": "skip"
    }
   },
   "outputs": [],
   "source": [
    "import re\n",
    "len(re.findall(r'[A-Z]', sms[\"Text\"][1]))\n",
    "def ncap(mystring):\n",
    "    return (len(re.findall(r'[A-Z]', mystring)))\n",
    "\n",
    "def nnum(mystring):\n",
    "    return (len(re.findall(r'[0-9]', mystring)))\n",
    "\n",
    "sms[\"ncap\"] = sms[\"Text\"].apply(ncap)\n",
    "sms[\"nnum\"] = sms[\"Text\"].apply(nnum)\n",
    "sms[\"pcap\"] = sms[\"ncap\"].div(sms[\"Length\"], axis = 0)\n",
    "sms[\"pnum\"] = sms[\"nnum\"].div(sms[\"Length\"], axis = 0)"
   ]
  },
  {
   "cell_type": "code",
   "execution_count": 4,
   "metadata": {
    "collapsed": false,
    "slideshow": {
     "slide_type": "slide"
    }
   },
   "outputs": [
    {
     "data": {
      "text/plain": [
       "Label\n",
       "ham     AxesSubplot(0.125,0.125;0.775x0.755)\n",
       "spam    AxesSubplot(0.125,0.125;0.775x0.755)\n",
       "Name: pcap, dtype: object"
      ]
     },
     "execution_count": 4,
     "metadata": {},
     "output_type": "execute_result"
    },
    {
     "data": {
      "image/png": "[encoded data removed]",
      "text/plain": [
       "<Figure size 432x288 with 1 Axes>"
      ]
     },
     "metadata": {},
     "output_type": "display_data"
    }
   ],
   "source": [
    "sms.groupby(\"Label\").pcap.plot(kind = \"hist\", alpha = 0.5, bins = 100)"
   ]
  },
  {
   "cell_type": "markdown",
   "metadata": {},
   "source": [
    "The proportion of capital letters might not be quite helpful in distinguishing ham and spam. Converting everything to lower case incurs little information loss."
   ]
  },
  {
   "cell_type": "code",
   "execution_count": 5,
   "metadata": {
    "collapsed": false,
    "slideshow": {
     "slide_type": "subslide"
    }
   },
   "outputs": [
    {
     "data": {
      "text/plain": [
       "Label\n",
       "ham     AxesSubplot(0.125,0.125;0.775x0.755)\n",
       "spam    AxesSubplot(0.125,0.125;0.775x0.755)\n",
       "Name: pnum, dtype: object"
      ]
     },
     "execution_count": 5,
     "metadata": {},
     "output_type": "execute_result"
    },
    {
     "data": {
      "image/png": "[encoded data removed]",
      "text/plain": [
       "<Figure size 432x288 with 1 Axes>"
      ]
     },
     "metadata": {},
     "output_type": "display_data"
    }
   ],
   "source": [
    "sms.groupby(\"Label\").pnum.plot(kind = \"hist\", alpha = 0.5, bins = 100)"
   ]
  },
  {
   "cell_type": "markdown",
   "metadata": {},
   "source": [
    "The proportion of numbers in spam is higher than that in hams. It might be helpful!"
   ]
  },
  {
   "cell_type": "code",
   "execution_count": 6,
   "metadata": {
    "collapsed": true,
    "slideshow": {
     "slide_type": "skip"
    }
   },
   "outputs": [],
   "source": [
    "to_process = sms[\"Text\"].copy()\n",
    "to_process = to_process.str.lower()\n",
    "stop_words = set(stopwords.words(\"english\"))\n",
    "\n",
    "def clean_message(text):\n",
    "    # te\n",
    "    text = text.translate(str.maketrans(\"\", \"\", string.punctuation))\n",
    "    text = [word for word in text.split() if word not in stopwords.words(\"english\")]\n",
    "    \n",
    "    return \" \".join(text)\n",
    "\n",
    "text_cleaned = to_process.apply(clean_message)"
   ]
  },
  {
   "cell_type": "code",
   "execution_count": 7,
   "metadata": {
    "collapsed": true,
    "slideshow": {
     "slide_type": "skip"
    }
   },
   "outputs": [],
   "source": [
    "from collections import Counter\n",
    "freqSpam = Counter(\" \".join(text_cleaned[sms[\"Label\"] == \"spam\"]).split()).most_common(20)\n",
    "freqHam = Counter(\" \".join(text_cleaned[sms[\"Label\"] == \"ham\"]).split()).most_common(20)"
   ]
  },
  {
   "cell_type": "markdown",
   "metadata": {
    "slideshow": {
     "slide_type": "slide"
    }
   },
   "source": [
    "### Text cleaning:\n",
    "\n",
    "* Convert everything to lowercase. \n",
    "* Remove \"stopwords\".\n",
    "\n",
    "#### What are typical examples of stopwords?"
   ]
  },
  {
   "cell_type": "code",
   "execution_count": 8,
   "metadata": {
    "collapsed": false
   },
   "outputs": [
    {
     "name": "stdout",
     "output_type": "stream",
     "text": [
      "['i', 'me', 'my', 'myself', 'we', 'our', 'ours', 'ourselves', 'you', \"you're\", \"you've\", \"you'll\", \"you'd\", 'your', 'yours', 'yourself', 'yourselves', 'he', 'him', 'his', 'himself', 'she', \"she's\", 'her', 'hers', 'herself', 'it', \"it's\", 'its', 'itself', 'they', 'them', 'their', 'theirs', 'themselves', 'what', 'which', 'who', 'whom', 'this', 'that', \"that'll\", 'these', 'those', 'am', 'is', 'are', 'was', 'were', 'be', 'been', 'being', 'have', 'has', 'had', 'having', 'do', 'does', 'did', 'doing', 'a', 'an', 'the', 'and', 'but', 'if', 'or', 'because', 'as', 'until', 'while', 'of', 'at', 'by', 'for', 'with', 'about', 'against', 'between', 'into', 'through', 'during', 'before', 'after', 'above', 'below', 'to', 'from', 'up', 'down', 'in', 'out', 'on', 'off', 'over', 'under', 'again', 'further', 'then', 'once', 'here', 'there', 'when', 'where', 'why', 'how', 'all', 'any', 'both', 'each', 'few', 'more', 'most', 'other', 'some', 'such', 'no', 'nor', 'not', 'only', 'own', 'same', 'so', 'than', 'too', 'very', 's', 't', 'can', 'will', 'just', 'don', \"don't\", 'should', \"should've\", 'now', 'd', 'll', 'm', 'o', 're', 've', 'y', 'ain', 'aren', \"aren't\", 'couldn', \"couldn't\", 'didn', \"didn't\", 'doesn', \"doesn't\", 'hadn', \"hadn't\", 'hasn', \"hasn't\", 'haven', \"haven't\", 'isn', \"isn't\", 'ma', 'mightn', \"mightn't\", 'mustn', \"mustn't\", 'needn', \"needn't\", 'shan', \"shan't\", 'shouldn', \"shouldn't\", 'wasn', \"wasn't\", 'weren', \"weren't\", 'won', \"won't\", 'wouldn', \"wouldn't\"]\n"
     ]
    }
   ],
   "source": [
    "print(stopwords.words(\"english\"))"
   ]
  },
  {
   "cell_type": "code",
   "execution_count": 9,
   "metadata": {
    "collapsed": false,
    "slideshow": {
     "slide_type": "slide"
    }
   },
   "outputs": [
    {
     "data": {
      "image/png": "[encoded data removed]",
      "text/plain": [
       "<Figure size 432x288 with 1 Axes>"
      ]
     },
     "metadata": {},
     "output_type": "display_data"
    }
   ],
   "source": [
    "import matplotlib.pyplot as plt\n",
    "labels, ys = zip(*freqHam)\n",
    "xs = np.arange(len(labels)) \n",
    "width = 0.5\n",
    "plt.bar(xs, ys, width, align='center')\n",
    "plt.xticks(xs, labels)\n",
    "plt.xticks(rotation=70)\n",
    "plt.title(\"Top 20 Most Frequent Words for Ham\")\n",
    "plt.ylabel(\"Frequency\")\n",
    "plt.show()"
   ]
  },
  {
   "cell_type": "code",
   "execution_count": 10,
   "metadata": {
    "collapsed": false,
    "slideshow": {
     "slide_type": "subslide"
    }
   },
   "outputs": [
    {
     "data": {
      "image/png": "[encoded data removed]",
      "text/plain": [
       "<Figure size 432x288 with 1 Axes>"
      ]
     },
     "metadata": {},
     "output_type": "display_data"
    }
   ],
   "source": [
    "labels, ys = zip(*freqSpam)\n",
    "xs = np.arange(len(labels)) \n",
    "width = 0.5\n",
    "plt.bar(xs, ys, width, align='center')\n",
    "plt.xticks(xs, labels)\n",
    "plt.xticks(rotation=70)\n",
    "plt.title(\"Top 20 Most Frequent Words for Spam\")\n",
    "plt.ylabel(\"Frequency\")\n",
    "plt.show()"
   ]
  },
  {
   "cell_type": "markdown",
   "metadata": {
    "slideshow": {
     "slide_type": "slide"
    }
   },
   "source": [
    "### Convert text information to sparse matrices: different methods\n",
    "\n",
    "#### `CountVectorizer`\n",
    "\n",
    "`CountVectorizer` implements both tokenization and occurence counting in a single class. \n",
    "\n",
    "* Tokenization: a way to split **text** into tokens. These tokens could be paragraphs, sentences, or individual words. \n",
    "\n",
    "* Occurence counting: count the occurences of tokens in each document.\n",
    "\n",
    "An example:"
   ]
  },
  {
   "cell_type": "code",
   "execution_count": 11,
   "metadata": {
    "collapsed": false,
    "slideshow": {
     "slide_type": "subslide"
    }
   },
   "outputs": [
    {
     "data": {
      "text/plain": [
       "array([[0, 0, 1, 1, 0, 0, 1, 1, 0, 1],\n",
       "       [0, 0, 0, 1, 0, 2, 1, 1, 0, 1],\n",
       "       [1, 0, 0, 0, 1, 0, 0, 1, 1, 0],\n",
       "       [0, 1, 1, 1, 0, 0, 0, 1, 0, 1]], dtype=int64)"
      ]
     },
     "execution_count": 11,
     "metadata": {},
     "output_type": "execute_result"
    }
   ],
   "source": [
    "from sklearn.feature_extraction.text import CountVectorizer\n",
    "vectorizer = CountVectorizer()\n",
    "exampleCorpus = [\n",
    "    'This is the first sentence.',\n",
    "    'This is the second second sentence',\n",
    "    'And the third one',\n",
    "    'Is this the first document?'\n",
    "]\n",
    "\n",
    "X = vectorizer.fit_transform(exampleCorpus)\n",
    "X.toarray()"
   ]
  },
  {
   "cell_type": "markdown",
   "metadata": {},
   "source": [
    "A corpus of documents can thus be represented by a matrix with one row per document and one column per token (e.g. word) occuring in the corpus."
   ]
  },
  {
   "cell_type": "markdown",
   "metadata": {
    "slideshow": {
     "slide_type": "slide"
    }
   },
   "source": [
    "#### `TfidfVectorizer`\n",
    "\n",
    "*Intuition: re-weight the count features, so that highly frequent words do not sharow the frequencies of rarer yet more interesting terms.*\n",
    "\n",
    "* Tf: term-frequency\n",
    "* tf-idf: term-frequency times *inverse document-frequency*, i.e. $\\text{tf-idf}(t,d) = \\text{tf}(t,d) \\times \\text{idf}(t)$, where $\\text{tf}(t,d)$ is the occurence of term $t$ in the documents, and \n",
    "\n",
    "$$\\text{idf}(t) = \\log \\frac{1 + n_d}{1 + \\text{df}(d,t)} + 1,$$\n",
    "\n",
    "where $n_d$ is the total number of documents, and $\\text{df}(d,t)$ is the number of documents that contain term $t$. \n",
    "\n",
    "The resulting tf-idf vectors could either be directly fed to classifiers, or normalized using $\\ell_1$ or $\\ell_2$ norm."
   ]
  },
  {
   "cell_type": "code",
   "execution_count": 12,
   "metadata": {
    "collapsed": false,
    "slideshow": {
     "slide_type": "subslide"
    }
   },
   "outputs": [
    {
     "data": {
      "text/plain": [
       "array([[0.        , 0.        , 0.23358689, 0.18910872, 0.        ,\n",
       "        0.        , 0.23358689, 0.15460877, 0.        , 0.18910872],\n",
       "       [0.        , 0.        , 0.        , 0.13915655, 0.        ,\n",
       "        0.43603126, 0.17188603, 0.1137696 , 0.        , 0.13915655],\n",
       "       [0.28394236, 0.        , 0.        , 0.        , 0.28394236,\n",
       "        0.        , 0.        , 0.14817291, 0.28394236, 0.        ],\n",
       "       [0.        , 0.27879794, 0.2198075 , 0.17795311, 0.        ,\n",
       "        0.        , 0.        , 0.14548833, 0.        , 0.17795311]])"
      ]
     },
     "execution_count": 12,
     "metadata": {},
     "output_type": "execute_result"
    }
   ],
   "source": [
    "## tfidvectorizer using $\\ell_1$ normalizaiton\n",
    "vectorizer2 = TfidfVectorizer(norm = \"l1\")\n",
    "X2 = vectorizer2.fit_transform(exampleCorpus)\n",
    "X2.toarray()"
   ]
  },
  {
   "cell_type": "code",
   "execution_count": 13,
   "metadata": {
    "collapsed": false,
    "slideshow": {
     "slide_type": "subslide"
    }
   },
   "outputs": [
    {
     "data": {
      "text/plain": [
       "array([[0.        , 0.        , 0.51646957, 0.41812662, 0.        ,\n",
       "        0.        , 0.51646957, 0.34184591, 0.        , 0.41812662],\n",
       "       [0.        , 0.        , 0.        , 0.26714448, 0.        ,\n",
       "        0.8370669 , 0.32997658, 0.21840812, 0.        , 0.26714448],\n",
       "       [0.55280532, 0.        , 0.        , 0.        , 0.55280532,\n",
       "        0.        , 0.        , 0.28847675, 0.55280532, 0.        ],\n",
       "       [0.        , 0.60759891, 0.47903796, 0.38782252, 0.        ,\n",
       "        0.        , 0.        , 0.31707032, 0.        , 0.38782252]])"
      ]
     },
     "execution_count": 13,
     "metadata": {},
     "output_type": "execute_result"
    }
   ],
   "source": [
    "## tfidvectorizer using $\\ell_2$ normalizaiton\n",
    "vectorizer3 = TfidfVectorizer(norm = \"l2\")\n",
    "X3 = vectorizer3.fit_transform(exampleCorpus)\n",
    "X3.toarray()"
   ]
  },
  {
   "cell_type": "code",
   "execution_count": 14,
   "metadata": {
    "collapsed": false,
    "slideshow": {
     "slide_type": "skip"
    }
   },
   "outputs": [],
   "source": [
    "import matplotlib.pyplot as plt\n",
    "from scipy.sparse import coo_matrix\n",
    "import matplotlib\n",
    "\n",
    "def plot_coo_matrix(m):\n",
    "    if not isinstance(m, coo_matrix):\n",
    "        m = coo_matrix(m)\n",
    "    fig = plt.figure()\n",
    "    ax = fig.add_subplot(111, axisbg='black')\n",
    "    ax.plot(m.col, m.row, 's', color='white', ms=1)\n",
    "    ax.set_xlim(0, m.shape[1])\n",
    "    ax.set_ylim(0, m.shape[0])\n",
    "    ax.set_aspect('equal')\n",
    "    for spine in ax.spines.values():\n",
    "        spine.set_visible(False)\n",
    "    ax.invert_yaxis()\n",
    "    ax.set_aspect('equal')\n",
    "    ax.set_xticks([])\n",
    "    ax.set_yticks([])\n",
    "    return ax"
   ]
  },
  {
   "cell_type": "markdown",
   "metadata": {
    "slideshow": {
     "slide_type": "slide"
    }
   },
   "source": [
    "### Start with `CountVectorizer`\n",
    "\n",
    "Split the matrix `features` into training (80%) and testing (20%) sets."
   ]
  },
  {
   "cell_type": "code",
   "execution_count": 15,
   "metadata": {
    "collapsed": true,
    "slideshow": {
     "slide_type": "skip"
    }
   },
   "outputs": [],
   "source": [
    "from sklearn.linear_model import LogisticRegression\n",
    "from sklearn.linear_model import SGDClassifier\n",
    "from sklearn.svm import SVC\n",
    "from sklearn.svm import LinearSVC\n",
    "from sklearn.naive_bayes import MultinomialNB\n",
    "from sklearn.tree import DecisionTreeClassifier\n",
    "from sklearn.neighbors import KNeighborsClassifier\n",
    "from sklearn.ensemble import RandomForestClassifier\n",
    "from sklearn.ensemble import AdaBoostClassifier\n",
    "from sklearn.ensemble import BaggingClassifier\n",
    "from sklearn.ensemble import ExtraTreesClassifier\n",
    "from sklearn.metrics import accuracy_score"
   ]
  },
  {
   "cell_type": "code",
   "execution_count": 16,
   "metadata": {
    "collapsed": true,
    "slideshow": {
     "slide_type": "-"
    }
   },
   "outputs": [],
   "source": [
    "vectorizer = CountVectorizer(\"english\")\n",
    "features = vectorizer.fit_transform(text_cleaned)\n",
    "featureTrain, featureTest, labelTrain, labelTest = train_test_split(features, sms[\"Label\"],\n",
    "                                                      test_size = 0.2, random_state = 1234)"
   ]
  },
  {
   "cell_type": "code",
   "execution_count": 17,
   "metadata": {
    "collapsed": true,
    "slideshow": {
     "slide_type": "subslide"
    }
   },
   "outputs": [],
   "source": [
    "svc = SVC(kernel = \"sigmoid\", gamma = 0.15)\n",
    "eln = SGDClassifier(loss = \"log\", penalty = \"elasticnet\", l1_ratio = 0.45, alpha = 0.0001,\n",
    "                   tol= None, max_iter = 100)\n",
    "dtc = DecisionTreeClassifier(min_samples_split = 9, random_state = 2345)\n",
    "mnb = MultinomialNB(alpha = 0.6)\n",
    "knc = KNeighborsClassifier(n_neighbors = 20)\n",
    "rfc = RandomForestClassifier(n_estimators = 53, random_state = 2345)\n",
    "abc = AdaBoostClassifier(n_estimators = 37, random_state = 2345)\n",
    "bgc = BaggingClassifier(n_estimators = 43, random_state = 2345)\n",
    "etc = ExtraTreesClassifier(n_estimators = 23, random_state = 2345)"
   ]
  },
  {
   "cell_type": "code",
   "execution_count": 18,
   "metadata": {
    "collapsed": true,
    "slideshow": {
     "slide_type": "skip"
    }
   },
   "outputs": [],
   "source": [
    "classifier = {\"Support Vector Machine\": svc, \"Logistic Regression\": eln, \n",
    "             \"Decision Tree\": dtc, \"Multinomial Naive Bayes\": mnb, \n",
    "             \"K-Nearest Neighbor\": knc, \"Random Forest\": rfc, \n",
    "             \"Adaboost\": abc, \"Bagging\": bgc, \"ExtraTrees\": etc}"
   ]
  },
  {
   "cell_type": "code",
   "execution_count": 19,
   "metadata": {
    "collapsed": true,
    "slideshow": {
     "slide_type": "skip"
    }
   },
   "outputs": [],
   "source": [
    "def train_classifier(cl, feature_train, labels_train):\n",
    "    cl.fit(feature_train, labels_train)\n",
    "    \n",
    "def test_classifier(cl, feature_test):\n",
    "    return(cl.predict(feature_test))"
   ]
  },
  {
   "cell_type": "code",
   "execution_count": 20,
   "metadata": {
    "collapsed": false,
    "slideshow": {
     "slide_type": "skip"
    }
   },
   "outputs": [],
   "source": [
    "predScore = []\n",
    "for k,v in classifier.items():\n",
    "    train_classifier(v, featureTrain, labelTrain)\n",
    "    pred = test_classifier(v, featureTest)\n",
    "    predScore.append((k, [accuracy_score(labelTest, pred)]))"
   ]
  },
  {
   "cell_type": "markdown",
   "metadata": {
    "slideshow": {
     "slide_type": "subslide"
    }
   },
   "source": [
    "The performance of different classifiers on the testing dataset, using features created by `CountVectorizer`:"
   ]
  },
  {
   "cell_type": "code",
   "execution_count": 21,
   "metadata": {
    "collapsed": false,
    "slideshow": {
     "slide_type": "-"
    }
   },
   "outputs": [
    {
     "data": {
      "text/plain": [
       "[('Support Vector Machine', [0.9748878923766816]),\n",
       " ('Logistic Regression', [0.9838565022421525]),\n",
       " ('Decision Tree', [0.9695067264573991]),\n",
       " ('Multinomial Naive Bayes', [0.9766816143497757]),\n",
       " ('K-Nearest Neighbor', [0.8511210762331839]),\n",
       " ('Random Forest', [0.9739910313901345]),\n",
       " ('Adaboost', [0.9614349775784753]),\n",
       " ('Bagging', [0.9713004484304932]),\n",
       " ('ExtraTrees', [0.9802690582959641])]"
      ]
     },
     "execution_count": 21,
     "metadata": {},
     "output_type": "execute_result"
    }
   ],
   "source": [
    "predScore"
   ]
  },
  {
   "cell_type": "code",
   "execution_count": 22,
   "metadata": {
    "collapsed": false,
    "scrolled": false,
    "slideshow": {
     "slide_type": "slide"
    }
   },
   "outputs": [
    {
     "data": {
      "text/plain": [
       "([<matplotlib.axis.XTick at 0x10c4f0dd8>,\n",
       "  <matplotlib.axis.XTick at 0x10c4dbf28>,\n",
       "  <matplotlib.axis.XTick at 0x10c4f0588>,\n",
       "  <matplotlib.axis.XTick at 0x10c482e48>,\n",
       "  <matplotlib.axis.XTick at 0x10c493390>,\n",
       "  <matplotlib.axis.XTick at 0x10c493898>,\n",
       "  <matplotlib.axis.XTick at 0x10c493da0>,\n",
       "  <matplotlib.axis.XTick at 0x10c5012e8>,\n",
       "  <matplotlib.axis.XTick at 0x10c5017f0>],\n",
       " <a list of 9 Text xticklabel objects>)"
      ]
     },
     "execution_count": 22,
     "metadata": {},
     "output_type": "execute_result"
    },
    {
     "data": {
      "image/png": "[encoded data removed]",
      "text/plain": [
       "<Figure size 432x288 with 1 Axes>"
      ]
     },
     "metadata": {},
     "output_type": "display_data"
    }
   ],
   "source": [
    "import matplotlib.pyplot as plt\n",
    "labels, ys = zip(*predScore)\n",
    "yss = []\n",
    "for item in ys:\n",
    "    yss.extend(item)\n",
    "xs = np.arange(len(labels))\n",
    "width = 0.5\n",
    "plt.bar(xs, yss, width, align = \"center\")\n",
    "plt.xticks(xs, labels, rotation = \"vertical\")"
   ]
  },
  {
   "cell_type": "markdown",
   "metadata": {
    "slideshow": {
     "slide_type": "slide"
    }
   },
   "source": [
    "#### What about `TfidfVectorizer`? "
   ]
  },
  {
   "cell_type": "code",
   "execution_count": 23,
   "metadata": {
    "collapsed": true
   },
   "outputs": [],
   "source": [
    "vectorizer2 = TfidfVectorizer(\"english\", norm = \"l2\")\n",
    "features_tf = vectorizer2.fit_transform(text_cleaned)\n",
    "featureTrain_tf, featureTest_tf, labelTrain_tf, labelTest_tf = train_test_split(features_tf, sms[\"Label\"],\n",
    "                                                      test_size = 0.2, random_state = 1234)"
   ]
  },
  {
   "cell_type": "code",
   "execution_count": 24,
   "metadata": {
    "collapsed": true,
    "slideshow": {
     "slide_type": "skip"
    }
   },
   "outputs": [],
   "source": [
    "svc = SVC(kernel = \"sigmoid\", gamma = 1)\n",
    "eln = SGDClassifier(loss = \"log\", penalty = \"elasticnet\", l1_ratio = 0, alpha = 0.0001,\n",
    "                   tol= None, max_iter = 100)\n",
    "dtc = DecisionTreeClassifier(min_samples_split = 7, random_state = 2345)\n",
    "mnb = MultinomialNB(alpha = 0.05)\n",
    "knc = KNeighborsClassifier(n_neighbors = 41)\n",
    "rfc = RandomForestClassifier(n_estimators = 31, random_state = 2345)\n",
    "abc = AdaBoostClassifier(n_estimators = 37, random_state = 2345)\n",
    "bgc = BaggingClassifier(n_estimators = 33, random_state = 2345)\n",
    "etc = ExtraTreesClassifier(n_estimators = 33, random_state = 2345)\n",
    "\n",
    "predScore_tf = []\n",
    "for k,v in classifier.items():\n",
    "    train_classifier(v, featureTrain_tf, labelTrain_tf)\n",
    "    pred = test_classifier(v, featureTest_tf)\n",
    "    predScore_tf.append((k, [accuracy_score(labelTest_tf, pred)]))"
   ]
  },
  {
   "cell_type": "code",
   "execution_count": 25,
   "metadata": {
    "collapsed": false,
    "slideshow": {
     "slide_type": "subslide"
    }
   },
   "outputs": [
    {
     "data": {
      "text/plain": [
       "[('Support Vector Machine', [0.9300448430493273]),\n",
       " ('Logistic Regression', [0.9632286995515695]),\n",
       " ('Decision Tree', [0.9659192825112107]),\n",
       " ('Multinomial Naive Bayes', [0.9721973094170404]),\n",
       " ('K-Nearest Neighbor', [0.8923766816143498]),\n",
       " ('Random Forest', [0.9766816143497757]),\n",
       " ('Adaboost', [0.9659192825112107]),\n",
       " ('Bagging', [0.9775784753363229]),\n",
       " ('ExtraTrees', [0.9739910313901345])]"
      ]
     },
     "execution_count": 25,
     "metadata": {},
     "output_type": "execute_result"
    }
   ],
   "source": [
    "predScore_tf"
   ]
  },
  {
   "cell_type": "code",
   "execution_count": 26,
   "metadata": {
    "collapsed": false
   },
   "outputs": [
    {
     "data": {
      "text/plain": [
       "[('Support Vector Machine', [0.9748878923766816]),\n",
       " ('Logistic Regression', [0.9838565022421525]),\n",
       " ('Decision Tree', [0.9695067264573991]),\n",
       " ('Multinomial Naive Bayes', [0.9766816143497757]),\n",
       " ('K-Nearest Neighbor', [0.8511210762331839]),\n",
       " ('Random Forest', [0.9739910313901345]),\n",
       " ('Adaboost', [0.9614349775784753]),\n",
       " ('Bagging', [0.9713004484304932]),\n",
       " ('ExtraTrees', [0.9802690582959641])]"
      ]
     },
     "execution_count": 26,
     "metadata": {},
     "output_type": "execute_result"
    }
   ],
   "source": [
    "predScore"
   ]
  },
  {
   "cell_type": "markdown",
   "metadata": {},
   "source": [
    "Simpler, easier-to-interprete algorithms tend to have better performance with the count feature matrix, while ensemble methods perform better on the tf-idf transformed feature matrix. The performance of `KNN` is much worse than others using both matrices.\n",
    "\n",
    "**Choice**: use count feature matrix with `Support Vector Machine`, `Logistic Regression`, `Decision Tree` and `Multinomial Naive Bayes` for further study."
   ]
  },
  {
   "cell_type": "markdown",
   "metadata": {
    "collapsed": true,
    "slideshow": {
     "slide_type": "slide"
    }
   },
   "source": [
    "### What about adding the proportion of numbers? "
   ]
  },
  {
   "cell_type": "code",
   "execution_count": 27,
   "metadata": {
    "collapsed": true,
    "slideshow": {
     "slide_type": "skip"
    }
   },
   "outputs": [],
   "source": [
    "svc = SVC(kernel = \"rbf\", gamma = 0.05)\n",
    "eln = SGDClassifier(loss = \"log\", penalty = \"elasticnet\", l1_ratio = 0.52, alpha = 0.0001)\n",
    "dtc = DecisionTreeClassifier(min_samples_split = 7, random_state = 2345)\n",
    "mnb = MultinomialNB(alpha = 0.05)\n",
    "\n",
    "classifier = {\"Support Vector Machine\": svc, \"Logistic Regression\": eln, \n",
    "             \"Decision Tree\": dtc, \"Multinomial Naive Bayes\": mnb}"
   ]
  },
  {
   "cell_type": "code",
   "execution_count": 28,
   "metadata": {
    "collapsed": false,
    "slideshow": {
     "slide_type": "skip"
    }
   },
   "outputs": [
    {
     "name": "stderr",
     "output_type": "stream",
     "text": [
      "/usr/local/lib/python3.6/site-packages/sklearn/linear_model/stochastic_gradient.py:128: FutureWarning: max_iter and tol parameters have been added in <class 'sklearn.linear_model.stochastic_gradient.SGDClassifier'> in 0.19. If both are left unset, they default to max_iter=5 and tol=None. If tol is not None, max_iter defaults to max_iter=1000. From 0.21, default max_iter will be 1000, and default tol will be 1e-3.\n",
      "  \"and default tol will be 1e-3.\" % type(self), FutureWarning)\n"
     ]
    }
   ],
   "source": [
    "from scipy.sparse import hstack\n",
    "features_ext = hstack([features, sms[\"pnum\"][:,None]])\n",
    "featureTrain_ext, featureTest_ext, labelTrain, labelTest = train_test_split(features_ext,\n",
    "                                        sms[\"Label\"],test_size = 0.2, random_state = 1234)\n",
    "predScore_ext = []\n",
    "for k,v in classifier.items():\n",
    "    train_classifier(v, featureTrain_ext, labelTrain)\n",
    "    pred = test_classifier(v, featureTest_ext)\n",
    "    predScore_ext.append((k, [accuracy_score(labelTest, pred)]))"
   ]
  },
  {
   "cell_type": "code",
   "execution_count": 29,
   "metadata": {
    "collapsed": false
   },
   "outputs": [
    {
     "data": {
      "text/plain": [
       "[('Support Vector Machine', [0.9811659192825112]),\n",
       " ('Logistic Regression', [0.9838565022421525]),\n",
       " ('Decision Tree', [0.9811659192825112]),\n",
       " ('Multinomial Naive Bayes', [0.9775784753363229])]"
      ]
     },
     "execution_count": 29,
     "metadata": {},
     "output_type": "execute_result"
    }
   ],
   "source": [
    "predScore_ext"
   ]
  },
  {
   "cell_type": "markdown",
   "metadata": {},
   "source": [
    "The addition of `pnum` increases the prediction accuracy for all four classifiers!"
   ]
  },
  {
   "cell_type": "markdown",
   "metadata": {
    "slideshow": {
     "slide_type": "slide"
    }
   },
   "source": [
    "### Imbalanced Data\n",
    "\n",
    "In this case, it would be more reasonable to downsample the `ham` class. "
   ]
  },
  {
   "cell_type": "code",
   "execution_count": 30,
   "metadata": {
    "collapsed": false
   },
   "outputs": [],
   "source": [
    "hamInd = np.asarray(sms.index[sms[\"Label\"] == \"ham\"].tolist())\n",
    "spamInd = np.asarray(sms.index[sms[\"Label\"] == \"spam\"].tolist())"
   ]
  },
  {
   "cell_type": "code",
   "execution_count": 31,
   "metadata": {
    "collapsed": false
   },
   "outputs": [],
   "source": [
    "np.random.seed(1812)\n",
    "trainHam = np.random.choice(hamInd, 965, replace = False)\n",
    "np.random.seed(7370)\n",
    "trainSpam = np.random.choice(spamInd, 597, replace = False)"
   ]
  },
  {
   "cell_type": "code",
   "execution_count": 32,
   "metadata": {
    "collapsed": false
   },
   "outputs": [],
   "source": [
    "trainInd = np.append(trainHam, trainSpam)\n",
    "testInd = np.setdiff1d(np.arange(5572), trainInd)"
   ]
  },
  {
   "cell_type": "code",
   "execution_count": 33,
   "metadata": {
    "collapsed": false
   },
   "outputs": [],
   "source": [
    "text_cleaned = to_process.apply(clean_message)\n",
    "features = vectorizer.fit_transform(text_cleaned)\n",
    "# featureTrain, featureTest, labelTrain, labelTest = train_test_split(features, rsms[\"Label\"],\n",
    "#                                                     test_size = 0.2, random_state = 1234)"
   ]
  },
  {
   "cell_type": "code",
   "execution_count": 34,
   "metadata": {
    "collapsed": false
   },
   "outputs": [],
   "source": [
    "featureTrain = features.tocsr()[trainInd,:]\n",
    "featureTest = features.tocsr()[testInd,:]\n",
    "labelTrain = sms[\"Label\"][trainInd]\n",
    "labelTest = sms[\"Label\"][testInd]"
   ]
  },
  {
   "cell_type": "code",
   "execution_count": 35,
   "metadata": {
    "collapsed": false
   },
   "outputs": [
    {
     "name": "stderr",
     "output_type": "stream",
     "text": [
      "/usr/local/lib/python3.6/site-packages/sklearn/linear_model/stochastic_gradient.py:128: FutureWarning: max_iter and tol parameters have been added in <class 'sklearn.linear_model.stochastic_gradient.SGDClassifier'> in 0.19. If both are left unset, they default to max_iter=5 and tol=None. If tol is not None, max_iter defaults to max_iter=1000. From 0.21, default max_iter will be 1000, and default tol will be 1e-3.\n",
      "  \"and default tol will be 1e-3.\" % type(self), FutureWarning)\n"
     ]
    }
   ],
   "source": [
    "svc = SVC(kernel = \"rbf\", gamma = 0.05)\n",
    "eln = SGDClassifier(loss = \"log\", penalty = \"elasticnet\", l1_ratio = 0.52, alpha = 0.0001, tol = 0.0001, max_iter = 1000)\n",
    "dtc = DecisionTreeClassifier(min_samples_split = 7, random_state = 2345)\n",
    "mnb = MultinomialNB(alpha = 0.05)\n",
    "\n",
    "predScore = []\n",
    "for k,v in classifier.items():\n",
    "    train_classifier(v, featureTrain, labelTrain)\n",
    "    pred = test_classifier(v, featureTest)\n",
    "    predScore.append((k, [accuracy_score(labelTest, pred)]))"
   ]
  },
  {
   "cell_type": "code",
   "execution_count": 36,
   "metadata": {
    "collapsed": false
   },
   "outputs": [
    {
     "data": {
      "text/plain": [
       "[('Support Vector Machine', [0.9743142144638404]),\n",
       " ('Logistic Regression', [0.9733167082294264]),\n",
       " ('Decision Tree', [0.9094763092269327]),\n",
       " ('Multinomial Naive Bayes', [0.9685785536159601])]"
      ]
     },
     "execution_count": 36,
     "metadata": {},
     "output_type": "execute_result"
    }
   ],
   "source": [
    "predScore"
   ]
  },
  {
   "cell_type": "markdown",
   "metadata": {},
   "source": [
    "Logistic regression with elasticnet penalty provides best performance."
   ]
  },
  {
   "cell_type": "code",
   "execution_count": 37,
   "metadata": {
    "collapsed": false
   },
   "outputs": [],
   "source": [
    "eln.fit(featureTrain, labelTrain)\n",
    "pred = eln.predict(featureTest)"
   ]
  },
  {
   "cell_type": "code",
   "execution_count": 38,
   "metadata": {
    "collapsed": false
   },
   "outputs": [
    {
     "data": {
      "text/plain": [
       "70         Wah lucky man... Then can save money... Hee...\n",
       "75            I am waiting machan. Call me once you free.\n",
       "84                                         Yup next stop.\n",
       "105     Thanks a lot for your wishes on my birthday. T...\n",
       "161     New car and house for my parents.:)i have only...\n",
       "180     You lifted my hopes with the offer of money. I...\n",
       "193     It will stop on itself. I however suggest she ...\n",
       "386                       Customer place i will call you.\n",
       "420      Yes:)from last week itself i'm taking live call.\n",
       "458     1.20 that call cost. Which i guess isnt bad. M...\n",
       "494                      Are you free now?can i call now?\n",
       "554     IÛ÷ll have a look at the frying pan in case i...\n",
       "559     Aiyo... U always c our ex one... I dunno abt m...\n",
       "602                Speaking of does he have any cash yet?\n",
       "606     XCLUSIVE@CLUBSAISAI 2MOROW 28/5 SOIREE SPECIAL...\n",
       "699              K..u also dont msg or reply to his msg..\n",
       "730     Email AlertFrom: Jeri StewartSize: 2KBSubject:...\n",
       "750     Do you realize that in about 40 years, we'll h...\n",
       "787     Ever thought about living a good life with a p...\n",
       "811     So there's a ring that comes with the guys cos...\n",
       "905     Hey what's up charles sorry about the late reply.\n",
       "914               Call me da, i am waiting for your call.\n",
       "954             Filthy stories and GIRLS waiting for your\n",
       "1066         Once free call me sir. I am waiting for you.\n",
       "1115    So lets make it saturday or monday as per conv...\n",
       "1192    I was up all night too worrying about this app...\n",
       "1234    \\Hello-/@drivby-:0quit edrunk sorry iff pthis ...\n",
       "1270    Sorry chikku, my cell got some problem thts y ...\n",
       "1289    Hey...Great deal...Farm tour 9am to 5pm $95/pa...\n",
       "1298       Your daily text from me ÛÒ a favour this time\n",
       "                              ...                        \n",
       "3690    Sir, i am waiting for your call, once free ple...\n",
       "3758    GOD ASKED, \\What is forgiveness?\\\" A little ch...\n",
       "3792              Hey are you angry with me. Reply me dr.\n",
       "3795    They have a thread on the wishlist section of ...\n",
       "3849    I to am looking forward to all the sex cuddlin...\n",
       "3862    Oh my god! I've found your number again! I'm s...\n",
       "3977    Reason is if the team budget is available at l...\n",
       "4033    Wot u up 2? Thout u were gonna call me!! Txt b...\n",
       "4087    He needs to stop going to bed and make with th...\n",
       "4114    Sorry. You never hear unless you book it. One ...\n",
       "4155    Yo, call me when you get the chance, a friend ...\n",
       "4417                           When you get free, call me\n",
       "4461    Sorry I flaked last night, shit's seriously go...\n",
       "4488             The new deus ex game comin early next yr\n",
       "4539    Urgh, coach hot, smells of chip fat! Thanks ag...\n",
       "4659    You call him and tell now infront of them. Cal...\n",
       "4700                               I liked the new mobile\n",
       "4763    Hi.:)technical support.providing assistance to...\n",
       "4771    Hi, Mobile no.  &lt;#&gt;  has added you in th...\n",
       "4828    How long before you get reply, just defer admi...\n",
       "4932                               Once free call me sir.\n",
       "4977    JADE ITS PAUL. Y DIDNåÕT U TXT ME? DO U REMEMB...\n",
       "5085    Sorry i missed your call. Can you please call ...\n",
       "5094    Hi Shanil,Rakhesh here.thanks,i have exchanged...\n",
       "5183                  Fuuuuck I need to stop sleepin, sup\n",
       "5305    \\Hi missed your Call and my mumHas beendroppin...\n",
       "5466    http//tms. widelive.com/index. wml?id=820554ad...\n",
       "5475    Dhoni have luck to win some big title.so we wi...\n",
       "5540    ASKED 3MOBILE IF 0870 CHATLINES INCLU IN FREE ...\n",
       "5548                   No, I was trying it all weekend ;V\n",
       "Name: Text, Length: 97, dtype: object"
      ]
     },
     "execution_count": 38,
     "metadata": {},
     "output_type": "execute_result"
    }
   ],
   "source": [
    "cheater = np.where(pred != np.asarray(labelTest))\n",
    "cheaterInd = labelTest.index[cheater]\n",
    "sms.loc[cheaterInd,\"Text\"]"
   ]
  },
  {
   "cell_type": "code",
   "execution_count": 39,
   "metadata": {
    "collapsed": false
   },
   "outputs": [
    {
     "data": {
      "text/plain": [
       "count      97\n",
       "unique      2\n",
       "top       ham\n",
       "freq       84\n",
       "Name: Label, dtype: object"
      ]
     },
     "execution_count": 39,
     "metadata": {},
     "output_type": "execute_result"
    }
   ],
   "source": [
    "sms.loc[cheaterInd, \"Label\"].describe()"
   ]
  },
  {
   "cell_type": "markdown",
   "metadata": {
    "slideshow": {
     "slide_type": "slide"
    }
   },
   "source": [
    "## Text clustering?\n",
    "\n",
    "Two algorithms: `k-means` and (its more scalable cousin) `minibatch k-means`"
   ]
  },
  {
   "cell_type": "code",
   "execution_count": 40,
   "metadata": {
    "collapsed": true
   },
   "outputs": [],
   "source": [
    "from sklearn.preprocessing import Normalizer\n",
    "from sklearn.pipeline import make_pipeline\n",
    "from sklearn.cluster import KMeans, MiniBatchKMeans\n",
    "from sklearn import metrics\n",
    "## ell_2 transformation\n",
    "X = vectorizer3.fit_transform(text_cleaned)"
   ]
  },
  {
   "cell_type": "code",
   "execution_count": 41,
   "metadata": {
    "collapsed": false
   },
   "outputs": [
    {
     "data": {
      "text/plain": [
       "<5572x9376 sparse matrix of type '<class 'numpy.float64'>'\n",
       "\twith 47254 stored elements in Compressed Sparse Row format>"
      ]
     },
     "execution_count": 41,
     "metadata": {},
     "output_type": "execute_result"
    }
   ],
   "source": [
    "X"
   ]
  },
  {
   "cell_type": "code",
   "execution_count": 42,
   "metadata": {
    "collapsed": false,
    "slideshow": {
     "slide_type": "subslide"
    }
   },
   "outputs": [
    {
     "data": {
      "text/plain": [
       "MiniBatchKMeans(batch_size=100, compute_labels=True, init='k-means++',\n",
       "        init_size=None, max_iter=100, max_no_improvement=10, n_clusters=2,\n",
       "        n_init=10, random_state=None, reassignment_ratio=0.01, tol=0.0,\n",
       "        verbose=0)"
      ]
     },
     "execution_count": 42,
     "metadata": {},
     "output_type": "execute_result"
    }
   ],
   "source": [
    "km1 = MiniBatchKMeans(n_clusters = 2, init = 'k-means++', n_init = 10)\n",
    "km1.fit(X)"
   ]
  },
  {
   "cell_type": "code",
   "execution_count": 43,
   "metadata": {
    "collapsed": false
   },
   "outputs": [
    {
     "data": {
      "text/plain": [
       "497"
      ]
     },
     "execution_count": 43,
     "metadata": {},
     "output_type": "execute_result"
    }
   ],
   "source": [
    "sum(km1.labels_)"
   ]
  },
  {
   "cell_type": "code",
   "execution_count": 44,
   "metadata": {
    "collapsed": false
   },
   "outputs": [
    {
     "data": {
      "text/plain": [
       "1.0"
      ]
     },
     "execution_count": 44,
     "metadata": {},
     "output_type": "execute_result"
    }
   ],
   "source": [
    "metrics.homogeneity_score(sms[\"Label\"] == \"Spam\", km1.labels_) "
   ]
  },
  {
   "cell_type": "code",
   "execution_count": 45,
   "metadata": {
    "collapsed": false
   },
   "outputs": [
    {
     "data": {
      "text/plain": [
       "-5.123277052431375e-15"
      ]
     },
     "execution_count": 45,
     "metadata": {},
     "output_type": "execute_result"
    }
   ],
   "source": [
    "metrics.completeness_score(sms[\"Label\"] == \"Spam\", km1.labels_)"
   ]
  },
  {
   "cell_type": "code",
   "execution_count": 46,
   "metadata": {
    "collapsed": false,
    "slideshow": {
     "slide_type": "subslide"
    }
   },
   "outputs": [
    {
     "data": {
      "text/plain": [
       "KMeans(algorithm='auto', copy_x=True, init='k-means++', max_iter=300,\n",
       "    n_clusters=2, n_init=10, n_jobs=1, precompute_distances='auto',\n",
       "    random_state=None, tol=0.0001, verbose=0)"
      ]
     },
     "execution_count": 46,
     "metadata": {},
     "output_type": "execute_result"
    }
   ],
   "source": [
    "km2 = KMeans(n_clusters = 2, init = \"k-means++\", n_init = 10)\n",
    "km2.fit(X)"
   ]
  },
  {
   "cell_type": "code",
   "execution_count": 47,
   "metadata": {
    "collapsed": false
   },
   "outputs": [
    {
     "data": {
      "text/plain": [
       "198"
      ]
     },
     "execution_count": 47,
     "metadata": {},
     "output_type": "execute_result"
    }
   ],
   "source": [
    "sum(km2.labels_)"
   ]
  },
  {
   "cell_type": "code",
   "execution_count": 48,
   "metadata": {
    "collapsed": false
   },
   "outputs": [
    {
     "data": {
      "text/plain": [
       "1.0"
      ]
     },
     "execution_count": 48,
     "metadata": {},
     "output_type": "execute_result"
    }
   ],
   "source": [
    "metrics.homogeneity_score(sms[\"Label\"] == \"Spam\", km2.labels_) "
   ]
  },
  {
   "cell_type": "code",
   "execution_count": 49,
   "metadata": {
    "collapsed": false
   },
   "outputs": [
    {
     "data": {
      "text/plain": [
       "1.1347507443106382e-14"
      ]
     },
     "execution_count": 49,
     "metadata": {},
     "output_type": "execute_result"
    }
   ],
   "source": [
    "metrics.completeness_score(sms[\"Label\"] == \"Spam\", km2.labels_)"
   ]
  },
  {
   "cell_type": "markdown",
   "metadata": {
    "slideshow": {
     "slide_type": "slide"
    }
   },
   "source": [
    "## Thank you!"
   ]
  },
  {
   "cell_type": "code",
   "execution_count": null,
   "metadata": {
    "collapsed": true
   },
   "outputs": [],
   "source": []
  }
 ],
 "metadata": {
  "celltoolbar": "Slideshow",
  "kernelspec": {
   "display_name": "Python 3",
   "language": "python",
   "name": "python3"
  },
  "language_info": {
   "codemirror_mode": {
    "name": "ipython",
    "version": 3
   },
   "file_extension": ".py",
   "mimetype": "text/x-python",
   "name": "python",
   "nbconvert_exporter": "python",
   "pygments_lexer": "ipython3",
   "version": "3.6.5"
  }
 },
 "nbformat": 4,
 "nbformat_minor": 2
}
